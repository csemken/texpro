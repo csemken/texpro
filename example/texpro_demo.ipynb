{
 "cells": [
  {
   "cell_type": "markdown",
   "metadata": {
    "collapsed": true,
    "pycharm": {
     "name": "#%% md\n"
    }
   },
   "source": [
    "Import the package and some example data:"
   ]
  },
  {
   "cell_type": "code",
   "execution_count": 1,
   "outputs": [],
   "source": [
    "import texpro as tp\n",
    "import seaborn as sns\n",
    "\n",
    "iris = sns.load_dataset('iris')"
   ],
   "metadata": {
    "collapsed": false,
    "pycharm": {
     "name": "#%%\n"
    }
   }
  },
  {
   "cell_type": "markdown",
   "source": [
    "Initialise the TeXpro document directory:"
   ],
   "metadata": {
    "collapsed": false
   }
  },
  {
   "cell_type": "code",
   "execution_count": 2,
   "outputs": [],
   "source": [
    "tp.config.doc_path = 'texpro_demo/'\n",
    "tp.config.make_folders()"
   ],
   "metadata": {
    "collapsed": false,
    "pycharm": {
     "name": "#%%\n"
    }
   }
  },
  {
   "cell_type": "markdown",
   "source": [
    "Take a first look at the data and save the graph for use in LaTeX:"
   ],
   "metadata": {
    "collapsed": false
   }
  },
  {
   "cell_type": "code",
   "execution_count": 7,
   "outputs": [
    {
     "data": {
      "text/plain": "<Figure size 360x360 with 1 Axes>",
      "image/png": "[encoded data removed]"
     },
     "metadata": {
      "needs_background": "light"
     },
     "output_type": "display_data"
    }
   ],
   "source": [
    "# TODO: What even is a sepal? https://upload.wikimedia.org/wikipedia/commons/7/78/Petal-sepal.jpg?download\n",
    "\n",
    "plot = tp.Plot(sns.lmplot(x='sepal_length', y='sepal_width', hue='species', data=iris))\n",
    "tp.TexFigure('sepal_plot', plot, caption='Sepal Plot')"
   ],
   "metadata": {
    "collapsed": false,
    "pycharm": {
     "name": "#%%\n"
    }
   }
  },
  {
   "cell_type": "markdown",
   "source": [
    "Looks like there is a relationship between sepal length and width.  Let’s test the relationship more formally using the following regression model:"
   ],
   "metadata": {
    "collapsed": false
   }
  },
  {
   "cell_type": "code",
   "execution_count": 4,
   "outputs": [
    {
     "data": {
      "text/plain": "<texpro.texassets.TexEquation at 0x7f7b8135cee0>",
      "text/latex": "$sepal\\_width_i = \\alpha_i + \\beta_i sepal\\_length_i + \\epsilon_i$"
     },
     "execution_count": 4,
     "metadata": {},
     "output_type": "execute_result"
    }
   ],
   "source": [
    "tp.TexEquation('sepal_reg', r'sepal\\_width_i = \\alpha_i + \\beta_i sepal\\_length_i + \\epsilon_i')"
   ],
   "metadata": {
    "collapsed": false,
    "pycharm": {
     "name": "#%%\n"
    }
   }
  },
  {
   "cell_type": "code",
   "source": [
    "import statsmodels.formula.api as smf\n",
    "est1 = smf.ols('sepal_width ~ 1 + sepal_length', iris).fit()\n",
    "\n",
    "from stargazer.stargazer import Stargazer\n",
    "tp.StargazerTable('sepal_reg', Stargazer([est1]), caption='Sepal regression')"
   ],
   "metadata": {
    "collapsed": false,
    "pycharm": {
     "name": "#%% \n"
    }
   },
   "execution_count": 5,
   "outputs": [
    {
     "data": {
      "text/plain": "<texpro.texassets.StargazerTable at 0x7f7b80a753d0>",
      "text/html": "<table style=\"text-align:center\"><tr><td colspan=\"2\" style=\"border-bottom: 1px solid black\"></td></tr><tr><td style=\"text-align:left\"></td><td colspan=\"1\"><em>Dependent variable:</em></td></tr><tr><td style=\"text-align:left\"></td><tr><td style=\"text-align:left\"></td><td>(1)</td></tr><tr><td colspan=\"2\" style=\"border-bottom: 1px solid black\"></td></tr><tr><td style=\"text-align:left\">Intercept</td><td>3.419<sup>***</sup></td></tr><tr><td style=\"text-align:left\"></td><td>(0.254)</td></tr><tr><td style=\"text-align:left\">sepal_length</td><td>-0.062<sup></sup></td></tr><tr><td style=\"text-align:left\"></td><td>(0.043)</td></tr><td colspan=\"2\" style=\"border-bottom: 1px solid black\"></td></tr><tr><td style=\"text-align: left\">Observations</td><td>150.0</td></tr><tr><td style=\"text-align: left\">R<sup>2</sup></td><td>0.014</td></tr><tr><td style=\"text-align: left\">Adjusted R<sup>2</sup></td><td>0.007</td></tr><tr><td style=\"text-align: left\">Residual Std. Error</td><td>0.434(df = 148.0)</td></tr><tr><td style=\"text-align: left\">F Statistic</td><td>2.074<sup></sup>(df = 1.0; 148.0)</td></tr><tr><td colspan=\"2\" style=\"border-bottom: 1px solid black\"></td></tr><tr><td style=\"text-align: left\">Note:</td>\n <td colspan=\"1\" style=\"text-align: right\">\n  <sup>*</sup>p&lt;0.1;\n  <sup>**</sup>p&lt;0.05;\n  <sup>***</sup>p&lt;0.01\n </td></tr></table>",
      "text/latex": "\\begin{table}\n\t\\centering\n\\begin{tabular}{@{\\extracolsep{5pt}}lcc}\n\\\\[-1.8ex]\\hline\n\\hline \\\\[-1.8ex]\n& \\multicolumn{1}{c}{\\textit{Dependent variable:}} \\\n\\cr \\cline{1-2}\n\\\\[-1.8ex] & (1) \\\\\n\\hline \\\\[-1.8ex]\n Intercept & 3.419$^{***}$ \\\\\n  & (0.254) \\\\\n  & \\\\\n sepal_length & -0.062$^{}$ \\\\\n  & (0.043) \\\\\n  & \\\\\n\\hline \\\\[-1.8ex]\n Observations & 150.0 \\\\\n R${2}$ & 0.014 \\\\\n Adjusted R${2}$ & 0.007 \\\\\n Residual Std. Error & 0.434(df = 148.0)  \\\\\n F Statistic & 2.074$^{}$ (df = 1.0; 148.0) \\\\\n\\hline\n\\hline \\\\[-1.8ex]\n\\textit{Note:} & \\multicolumn{1}{r}{$^{*}$p$<$0.1; $^{**}$p$<$0.05; $^{***}$p$<$0.01} \\\\\n\\end{tabular}\n\t\\caption{}\n\t\\label{tab:sepal_reg}\n\\end{table}"
     },
     "execution_count": 5,
     "metadata": {},
     "output_type": "execute_result"
    }
   ]
  },
  {
   "cell_type": "markdown",
   "source": [
    "TeXpro automatically creates all the required LaTeX files and places them in sensible folders:"
   ],
   "metadata": {
    "collapsed": false,
    "pycharm": {
     "name": "#%% md\n"
    }
   }
  },
  {
   "cell_type": "code",
   "execution_count": 6,
   "outputs": [
    {
     "name": "stdout",
     "output_type": "stream",
     "text": [
      "texpro_demo\n",
      "├── eq\n",
      "│   └── sepal_reg.tex\n",
      "├── fig\n",
      "│   └── sepal_plot.tex\n",
      "├── img\n",
      "│   └── sepal_plot.pdf\n",
      "└── tab\n",
      "    └── sepal_reg.tex\n"
     ]
    }
   ],
   "source": [
    "print(tp.config.file_tree)\n"
   ],
   "metadata": {
    "collapsed": false,
    "pycharm": {
     "name": "#%%\n"
    }
   }
  }
 ],
 "metadata": {
  "kernelspec": {
   "name": "pycharm-baac2d74",
   "language": "python",
   "display_name": "PyCharm (texpro)"
  },
  "language_info": {
   "codemirror_mode": {
    "name": "ipython",
    "version": 2
   },
   "file_extension": ".py",
   "mimetype": "text/x-python",
   "name": "python",
   "nbconvert_exporter": "python",
   "pygments_lexer": "ipython2",
   "version": "2.7.6"
  }
 },
 "nbformat": 4,
 "nbformat_minor": 0
}